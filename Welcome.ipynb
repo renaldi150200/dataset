{
 "cells": [
  {
   "cell_type": "markdown",
   "metadata": {
    "deletable": true,
    "editable": true
   },
   "source": [
    "# Welcome to rnotebook.io!\n",
    "\n",
    "If you've never used a Notebook environment before, read on!\n",
    "\n",
    "Otherwise, here's some stuff you might want to know:\n",
    "\n",
    "* This environment is preloaded with R and over three thousand R packages.\n",
    "* You can return and edit it any time, forever.\n",
    "* This is a BETA service. We're rapidly improving it.\n",
    "\n",
    "Right now, you're using [rnotebook.io](https://rnotebook.io) without logging in. As a result, there are some restrictions on what you can do:\n",
    "\n",
    "* RAM consumption and disk space are limited.\n",
    "* There's no network access.\n",
    "\n",
    "We will start lifting these restrictions in the free and paid accounts shortly.\n",
    "\n",
    "**Please send feedback (bugs, problems, suggestions) to [ian@mutexlabs.com](mailto:ian@mutexlabs.com)**.\n",
    "\n",
    "Enjoy!"
   ]
  },
  {
   "cell_type": "markdown",
   "metadata": {
    "deletable": true,
    "editable": true
   },
   "source": [
    "# Getting started\n",
    "\n",
    "Notebooks let you mix code, documentation and graphics. The following cell contains the traditional 'Hello, world!' greeting. Click it, then execute it by pressing Shift-Enter."
   ]
  },
  {
   "cell_type": "code",
   "execution_count": 2,
   "metadata": {
    "collapsed": false,
    "deletable": true,
    "editable": true
   },
   "outputs": [
    {
     "name": "stdout",
     "output_type": "stream",
     "text": [
      "'data.frame':\t20 obs. of  9 variables:\n",
      " $ ID.Pelanggan    : int  1 2 3 4 5 6 7 8 9 10 ...\n",
      " $ Nama            : Factor w/ 20 levels \"Arif\",\"Dian\",..: 1 2 3 4 5 6 7 8 9 10 ...\n",
      " $ Jenis.Kelamin   : int  1 2 2 1 2 1 1 2 2 2 ...\n",
      " $ Pendapatan      : int  600000 1200000 950000 400000 1200000 800000 950000 1100000 800000 1700000 ...\n",
      " $ Produk          : Factor w/ 5 levels \"A\",\"B\",\"C\",\"D\",..: 1 4 4 1 4 2 2 5 5 5 ...\n",
      " $ Harga           : int  100000 250000 250000 100000 250000 150000 150000 300000 300000 300000 ...\n",
      " $ Jumlah          : int  4 4 3 2 4 4 5 3 2 5 ...\n",
      " $ Total           : int  400000 1000000 750000 200000 1000000 600000 750000 900000 600000 1500000 ...\n",
      " $ Tingkat.Kepuasan: int  2 2 3 3 2 3 1 3 1 1 ...\n"
     ]
    }
   ],
   "source": [
    "#Membaca dataset dengan read.csv dan dimasukkan ke variable data_intro\n",
    "data_intro <- read.csv(\"data_intro.csv\", sep=\";\") #\n",
    "str(data_intro)\n"
   ]
  },
  {
   "cell_type": "markdown",
   "metadata": {
    "deletable": true,
    "editable": true
   },
   "source": [
    "We're working in R, so you might want to play with one of the built-in datasets. Let's check out `mtcars`."
   ]
  },
  {
   "cell_type": "code",
   "execution_count": 3,
   "metadata": {
    "collapsed": false,
    "deletable": true,
    "editable": true
   },
   "outputs": [
    {
     "data": {
      "text/html": [
       "<table>\n",
       "<thead><tr><th scope=col>ID.Pelanggan</th><th scope=col>Nama</th><th scope=col>Jenis.Kelamin</th><th scope=col>Pendapatan</th><th scope=col>Produk</th><th scope=col>Harga</th><th scope=col>Jumlah</th><th scope=col>Total</th><th scope=col>Tingkat.Kepuasan</th></tr></thead>\n",
       "<tbody>\n",
       "\t<tr><td> 1     </td><td>Arif   </td><td>1      </td><td> 600000</td><td>A      </td><td>100000 </td><td>4      </td><td> 400000</td><td>2      </td></tr>\n",
       "\t<tr><td> 2     </td><td>Dian   </td><td>2      </td><td>1200000</td><td>D      </td><td>250000 </td><td>4      </td><td>1000000</td><td>2      </td></tr>\n",
       "\t<tr><td> 3     </td><td>Dinda  </td><td>2      </td><td> 950000</td><td>D      </td><td>250000 </td><td>3      </td><td> 750000</td><td>3      </td></tr>\n",
       "\t<tr><td> 4     </td><td>Fajar  </td><td>1      </td><td> 400000</td><td>A      </td><td>100000 </td><td>2      </td><td> 200000</td><td>3      </td></tr>\n",
       "\t<tr><td> 5     </td><td>Ika    </td><td>2      </td><td>1200000</td><td>D      </td><td>250000 </td><td>4      </td><td>1000000</td><td>2      </td></tr>\n",
       "\t<tr><td> 6     </td><td>Ilham  </td><td>1      </td><td> 800000</td><td>B      </td><td>150000 </td><td>4      </td><td> 600000</td><td>3      </td></tr>\n",
       "\t<tr><td> 7     </td><td>Indra  </td><td>1      </td><td> 950000</td><td>B      </td><td>150000 </td><td>5      </td><td> 750000</td><td>1      </td></tr>\n",
       "\t<tr><td> 8     </td><td>Kartika</td><td>2      </td><td>1100000</td><td>E      </td><td>300000 </td><td>3      </td><td> 900000</td><td>3      </td></tr>\n",
       "\t<tr><td> 9     </td><td>Lestari</td><td>2      </td><td> 800000</td><td>E      </td><td>300000 </td><td>2      </td><td> 600000</td><td>1      </td></tr>\n",
       "\t<tr><td>10     </td><td>Lia    </td><td>2      </td><td>1700000</td><td>E      </td><td>300000 </td><td>5      </td><td>1500000</td><td>1      </td></tr>\n",
       "\t<tr><td>11     </td><td>Maria  </td><td>2      </td><td> 600000</td><td>A      </td><td>100000 </td><td>4      </td><td> 400000</td><td>3      </td></tr>\n",
       "\t<tr><td>12     </td><td>Maya   </td><td>2      </td><td> 950000</td><td>B      </td><td>150000 </td><td>5      </td><td> 750000</td><td>3      </td></tr>\n",
       "\t<tr><td>13     </td><td>Mila   </td><td>2      </td><td> 400000</td><td>C      </td><td>200000 </td><td>1      </td><td> 200000</td><td>2      </td></tr>\n",
       "\t<tr><td>14     </td><td>Nurul  </td><td>2      </td><td>6450000</td><td>D      </td><td>250000 </td><td>5      </td><td>1250000</td><td>1      </td></tr>\n",
       "\t<tr><td>15     </td><td>Retno  </td><td>2      </td><td>1000000</td><td>C      </td><td>200000 </td><td>4      </td><td> 800000</td><td>2      </td></tr>\n",
       "\t<tr><td>16     </td><td>Rini   </td><td>2      </td><td> 800000</td><td>B      </td><td>150000 </td><td>4      </td><td> 600000</td><td>1      </td></tr>\n",
       "\t<tr><td>17     </td><td>Rizki  </td><td>1      </td><td>1200000</td><td>C      </td><td>200000 </td><td>5      </td><td>1000000</td><td>3      </td></tr>\n",
       "\t<tr><td>18     </td><td>Sari   </td><td>2      </td><td> 700000</td><td>D      </td><td>250000 </td><td>2      </td><td> 500000</td><td>1      </td></tr>\n",
       "\t<tr><td>19     </td><td>Tyas   </td><td>2      </td><td> 600000</td><td>A      </td><td>100000 </td><td>4      </td><td> 400000</td><td>3      </td></tr>\n",
       "\t<tr><td>20     </td><td>Wahyu  </td><td>1      </td><td> 800000</td><td>C      </td><td>200000 </td><td>3      </td><td> 600000</td><td>1      </td></tr>\n",
       "</tbody>\n",
       "</table>\n"
      ],
      "text/latex": [
       "\\begin{tabular}{r|lllllllll}\n",
       " ID.Pelanggan & Nama & Jenis.Kelamin & Pendapatan & Produk & Harga & Jumlah & Total & Tingkat.Kepuasan\\\\\n",
       "\\hline\n",
       "\t  1      & Arif    & 1       &  600000 & A       & 100000  & 4       &  400000 & 2      \\\\\n",
       "\t  2      & Dian    & 2       & 1200000 & D       & 250000  & 4       & 1000000 & 2      \\\\\n",
       "\t  3      & Dinda   & 2       &  950000 & D       & 250000  & 3       &  750000 & 3      \\\\\n",
       "\t  4      & Fajar   & 1       &  400000 & A       & 100000  & 2       &  200000 & 3      \\\\\n",
       "\t  5      & Ika     & 2       & 1200000 & D       & 250000  & 4       & 1000000 & 2      \\\\\n",
       "\t  6      & Ilham   & 1       &  800000 & B       & 150000  & 4       &  600000 & 3      \\\\\n",
       "\t  7      & Indra   & 1       &  950000 & B       & 150000  & 5       &  750000 & 1      \\\\\n",
       "\t  8      & Kartika & 2       & 1100000 & E       & 300000  & 3       &  900000 & 3      \\\\\n",
       "\t  9      & Lestari & 2       &  800000 & E       & 300000  & 2       &  600000 & 1      \\\\\n",
       "\t 10      & Lia     & 2       & 1700000 & E       & 300000  & 5       & 1500000 & 1      \\\\\n",
       "\t 11      & Maria   & 2       &  600000 & A       & 100000  & 4       &  400000 & 3      \\\\\n",
       "\t 12      & Maya    & 2       &  950000 & B       & 150000  & 5       &  750000 & 3      \\\\\n",
       "\t 13      & Mila    & 2       &  400000 & C       & 200000  & 1       &  200000 & 2      \\\\\n",
       "\t 14      & Nurul   & 2       & 6450000 & D       & 250000  & 5       & 1250000 & 1      \\\\\n",
       "\t 15      & Retno   & 2       & 1000000 & C       & 200000  & 4       &  800000 & 2      \\\\\n",
       "\t 16      & Rini    & 2       &  800000 & B       & 150000  & 4       &  600000 & 1      \\\\\n",
       "\t 17      & Rizki   & 1       & 1200000 & C       & 200000  & 5       & 1000000 & 3      \\\\\n",
       "\t 18      & Sari    & 2       &  700000 & D       & 250000  & 2       &  500000 & 1      \\\\\n",
       "\t 19      & Tyas    & 2       &  600000 & A       & 100000  & 4       &  400000 & 3      \\\\\n",
       "\t 20      & Wahyu   & 1       &  800000 & C       & 200000  & 3       &  600000 & 1      \\\\\n",
       "\\end{tabular}\n"
      ],
      "text/markdown": [
       "\n",
       "ID.Pelanggan | Nama | Jenis.Kelamin | Pendapatan | Produk | Harga | Jumlah | Total | Tingkat.Kepuasan | \n",
       "|---|---|---|---|---|---|---|---|---|---|---|---|---|---|---|---|---|---|---|---|\n",
       "|  1      | Arif    | 1       |  600000 | A       | 100000  | 4       |  400000 | 2       | \n",
       "|  2      | Dian    | 2       | 1200000 | D       | 250000  | 4       | 1000000 | 2       | \n",
       "|  3      | Dinda   | 2       |  950000 | D       | 250000  | 3       |  750000 | 3       | \n",
       "|  4      | Fajar   | 1       |  400000 | A       | 100000  | 2       |  200000 | 3       | \n",
       "|  5      | Ika     | 2       | 1200000 | D       | 250000  | 4       | 1000000 | 2       | \n",
       "|  6      | Ilham   | 1       |  800000 | B       | 150000  | 4       |  600000 | 3       | \n",
       "|  7      | Indra   | 1       |  950000 | B       | 150000  | 5       |  750000 | 1       | \n",
       "|  8      | Kartika | 2       | 1100000 | E       | 300000  | 3       |  900000 | 3       | \n",
       "|  9      | Lestari | 2       |  800000 | E       | 300000  | 2       |  600000 | 1       | \n",
       "| 10      | Lia     | 2       | 1700000 | E       | 300000  | 5       | 1500000 | 1       | \n",
       "| 11      | Maria   | 2       |  600000 | A       | 100000  | 4       |  400000 | 3       | \n",
       "| 12      | Maya    | 2       |  950000 | B       | 150000  | 5       |  750000 | 3       | \n",
       "| 13      | Mila    | 2       |  400000 | C       | 200000  | 1       |  200000 | 2       | \n",
       "| 14      | Nurul   | 2       | 6450000 | D       | 250000  | 5       | 1250000 | 1       | \n",
       "| 15      | Retno   | 2       | 1000000 | C       | 200000  | 4       |  800000 | 2       | \n",
       "| 16      | Rini    | 2       |  800000 | B       | 150000  | 4       |  600000 | 1       | \n",
       "| 17      | Rizki   | 1       | 1200000 | C       | 200000  | 5       | 1000000 | 3       | \n",
       "| 18      | Sari    | 2       |  700000 | D       | 250000  | 2       |  500000 | 1       | \n",
       "| 19      | Tyas    | 2       |  600000 | A       | 100000  | 4       |  400000 | 3       | \n",
       "| 20      | Wahyu   | 1       |  800000 | C       | 200000  | 3       |  600000 | 1       | \n",
       "\n",
       "\n"
      ],
      "text/plain": [
       "   ID.Pelanggan Nama    Jenis.Kelamin Pendapatan Produk Harga  Jumlah Total  \n",
       "1   1           Arif    1              600000    A      100000 4       400000\n",
       "2   2           Dian    2             1200000    D      250000 4      1000000\n",
       "3   3           Dinda   2              950000    D      250000 3       750000\n",
       "4   4           Fajar   1              400000    A      100000 2       200000\n",
       "5   5           Ika     2             1200000    D      250000 4      1000000\n",
       "6   6           Ilham   1              800000    B      150000 4       600000\n",
       "7   7           Indra   1              950000    B      150000 5       750000\n",
       "8   8           Kartika 2             1100000    E      300000 3       900000\n",
       "9   9           Lestari 2              800000    E      300000 2       600000\n",
       "10 10           Lia     2             1700000    E      300000 5      1500000\n",
       "11 11           Maria   2              600000    A      100000 4       400000\n",
       "12 12           Maya    2              950000    B      150000 5       750000\n",
       "13 13           Mila    2              400000    C      200000 1       200000\n",
       "14 14           Nurul   2             6450000    D      250000 5      1250000\n",
       "15 15           Retno   2             1000000    C      200000 4       800000\n",
       "16 16           Rini    2              800000    B      150000 4       600000\n",
       "17 17           Rizki   1             1200000    C      200000 5      1000000\n",
       "18 18           Sari    2              700000    D      250000 2       500000\n",
       "19 19           Tyas    2              600000    A      100000 4       400000\n",
       "20 20           Wahyu   1              800000    C      200000 3       600000\n",
       "   Tingkat.Kepuasan\n",
       "1  2               \n",
       "2  2               \n",
       "3  3               \n",
       "4  3               \n",
       "5  2               \n",
       "6  3               \n",
       "7  1               \n",
       "8  3               \n",
       "9  1               \n",
       "10 1               \n",
       "11 3               \n",
       "12 3               \n",
       "13 2               \n",
       "14 1               \n",
       "15 2               \n",
       "16 1               \n",
       "17 3               \n",
       "18 1               \n",
       "19 3               \n",
       "20 1               "
      ]
     },
     "metadata": {},
     "output_type": "display_data"
    },
    {
     "name": "stdout",
     "output_type": "stream",
     "text": [
      "'data.frame':\t20 obs. of  9 variables:\n",
      " $ ID.Pelanggan    : int  1 2 3 4 5 6 7 8 9 10 ...\n",
      " $ Nama            : Factor w/ 20 levels \"Arif\",\"Dian\",..: 1 2 3 4 5 6 7 8 9 10 ...\n",
      " $ Jenis.Kelamin   : int  1 2 2 1 2 1 1 2 2 2 ...\n",
      " $ Pendapatan      : int  600000 1200000 950000 400000 1200000 800000 950000 1100000 800000 1700000 ...\n",
      " $ Produk          : Factor w/ 5 levels \"A\",\"B\",\"C\",\"D\",..: 1 4 4 1 4 2 2 5 5 5 ...\n",
      " $ Harga           : int  100000 250000 250000 100000 250000 150000 150000 300000 300000 300000 ...\n",
      " $ Jumlah          : int  4 4 3 2 4 4 5 3 2 5 ...\n",
      " $ Total           : int  400000 1000000 750000 200000 1000000 600000 750000 900000 600000 1500000 ...\n",
      " $ Tingkat.Kepuasan: int  2 2 3 3 2 3 1 3 1 1 ...\n"
     ]
    }
   ],
   "source": [
    "## melihat data/ pemanggilan data\n",
    "data_intro\n",
    "## melihat tipe data\n",
    "str(data_intro)"
   ]
  },
  {
   "cell_type": "markdown",
   "metadata": {
    "deletable": true,
    "editable": true
   },
   "source": [
    "You can plot things:"
   ]
  },
  {
   "cell_type": "code",
   "execution_count": 4,
   "metadata": {
    "collapsed": false,
    "deletable": true,
    "editable": true
   },
   "outputs": [
    {
     "data": {
      "text/html": [
       "'D'"
      ],
      "text/latex": [
       "'D'"
      ],
      "text/markdown": [
       "'D'"
      ],
      "text/plain": [
       "[1] \"D\""
      ]
     },
     "metadata": {},
     "output_type": "display_data"
    }
   ],
   "source": [
    "library(pracma)\n",
    "\n",
    "Mode(data_intro$Produk)"
   ]
  },
  {
   "cell_type": "markdown",
   "metadata": {
    "deletable": true,
    "editable": true
   },
   "source": [
    "In R, `ggplot2` is the defacto standard plotting packages. Let's make the same plot using `ggplot2`."
   ]
  },
  {
   "cell_type": "code",
   "execution_count": null,
   "metadata": {
    "collapsed": false,
    "deletable": true,
    "editable": true
   },
   "outputs": [],
   "source": [
    "library(ggplot2)\n",
    "\n",
    "qplot(mtcars$hp)"
   ]
  },
  {
   "cell_type": "markdown",
   "metadata": {
    "deletable": true,
    "editable": true
   },
   "source": [
    "`plotly` is another popular graphing library. Let's try it!"
   ]
  },
  {
   "cell_type": "code",
   "execution_count": null,
   "metadata": {
    "collapsed": false,
    "deletable": true,
    "editable": true
   },
   "outputs": [],
   "source": [
    "library(plotly)\n",
    "set.seed(100)\n",
    "d <- diamonds[sample(nrow(diamonds), 1000), ]\n",
    "p <- plot_ly(d, x = ~carat, y = ~price, color = ~carat,\n",
    "        size = ~carat, text = ~paste(\"Clarity: \", clarity),\n",
    "        type = \"scatter\", mode = \"markers\")\n",
    "embed_notebook(p)"
   ]
  },
  {
   "cell_type": "markdown",
   "metadata": {
    "deletable": true,
    "editable": true
   },
   "source": [
    "That's it for now! Please play around, tell your friends, and let us know how we're doing! Tweet us at @RNotebookHQ !"
   ]
  }
 ],
 "metadata": {
  "kernelspec": {
   "display_name": "R",
   "language": "R",
   "name": "ir"
  },
  "language_info": {
   "codemirror_mode": "r",
   "file_extension": ".r",
   "mimetype": "text/x-r-source",
   "name": "R",
   "pygments_lexer": "r",
   "version": "3.3.3"
  }
 },
 "nbformat": 4,
 "nbformat_minor": 2
}
